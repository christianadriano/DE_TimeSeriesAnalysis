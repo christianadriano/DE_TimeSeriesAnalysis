{
  "nbformat": 4,
  "nbformat_minor": 0,
  "metadata": {
    "colab": {
      "name": "NonStationaryProcess.ipynb",
      "provenance": [],
      "collapsed_sections": [],
      "include_colab_link": true
    },
    "kernelspec": {
      "name": "python3",
      "display_name": "Python 3"
    }
  },
  "cells": [
    {
      "cell_type": "markdown",
      "metadata": {
        "id": "view-in-github",
        "colab_type": "text"
      },
      "source": [
        "<a href=\"https://colab.research.google.com/github/christianadriano/DE_TimeSeriesAnalysis/blob/master/NonStationaryProcess.ipynb\" target=\"_parent\"><img src=\"https://colab.research.google.com/assets/colab-badge.svg\" alt=\"Open In Colab\"/></a>"
      ]
    },
    {
      "cell_type": "code",
      "metadata": {
        "id": "41TNG_JLeoAw",
        "colab_type": "code",
        "colab": {}
      },
      "source": [
        "import numpy as np\n",
        "import matplotlib.pyplot as plt\n",
        "\n",
        "def generate_non_stationary_series(N=100):\n",
        "    \"\"\"Three time series random_walk, epsilon_1, and epsilon_2\"\"\"\n",
        "    mu = 100. #mean value that the series will reverese to (mean-reversing)\n",
        "\n",
        "    random_walk = [mu] #is a random walk\n",
        "    epsilon_1 = [mu-50] #is an Ornstein–Uhlenbeck process starting at 50\n",
        "    epsilon_2 = [mu+50] #is an Ornstein–Uhlenbeck process starting at 150\n",
        "\n",
        "    sigma_RW = 0.7 #variance for the random walk series\n",
        "\n",
        "    sigmaEta1 = 0.3 #variance for epsilon_1, (the larger the noisier)\n",
        "    sigmaEta2 = 0.9 \n",
        "    theta1 = 0.1 #divergence factor (smaller the faster the convergence)\n",
        "    theta2 = 0.7 #divergence factor for epsilon_2\n",
        "    \n",
        "\n",
        "    for t in range(N):\n",
        "        if len(random_walk) == 0:\n",
        "            random_walk.append(np.random.normal(10., sigma_RW))\n",
        "        else:\n",
        "            random_walk.append(random_walk[-1] + np.random.normal(0., sigma_RW))\n",
        "\n",
        "        epsilon_1.append(epsilon_1[-1] + theta1 * (mu - epsilon_1[-1]) + \n",
        "                       np.random.normal(0., sigmaEta1))\n",
        "\n",
        "        epsilon_2.append(epsilon_2[-1] + theta2 * (mu - epsilon_2[-1]) + \n",
        "                       np.random.normal(0., sigmaEta2))\n",
        "\n",
        "    random_walk = np.array(random_walk)\n",
        "\n",
        "    return random_walk, epsilon_1, epsilon_2\n"
      ],
      "execution_count": 22,
      "outputs": []
    },
    {
      "cell_type": "code",
      "metadata": {
        "id": "cBb8y06oewbC",
        "colab_type": "code",
        "colab": {
          "base_uri": "https://localhost:8080/",
          "height": 279
        },
        "outputId": "79ed75cd-6b5d-477b-95cc-8aa28508c1db"
      },
      "source": [
        "random_walk,epsilon_1,epsilon_2 = generate_non_stationary_series()\n",
        "\n",
        "line_1, = plt.plot(epsilon_1, label=\"Orstein Uhlenbeck 1\")\n",
        "line_2, = plt.plot(epsilon_2,label=\"Orstein Uhlenbeck 2\")\n",
        "line_3, = plt.plot(random_walk,label=\"random walk\")\n",
        "plt.xlabel(\"time or episodes\")\n",
        "plt.ylabel(\"utility increase\")\n",
        "plt.legend(handles=[line_1,line_2,line_3])\n",
        "\n",
        "plt.show()"
      ],
      "execution_count": 23,
      "outputs": [
        {
          "output_type": "display_data",
          "data": {
            "image/png": "[encoded data removed]",
            "text/plain": [
              "<Figure size 432x288 with 1 Axes>"
            ]
          },
          "metadata": {
            "tags": [],
            "needs_background": "light"
          }
        }
      ]
    },
    {
      "cell_type": "code",
      "metadata": {
        "id": "GSlyY3xw-ANp",
        "colab_type": "code",
        "colab": {}
      },
      "source": [
        "from statsmodels.tsa.stattools import adfuller\n",
        "import pandas as pd\n",
        "\n",
        "def adf_test(timeseries):\n",
        "    #Perform Dickey-Fuller test:\n",
        "    print ('Results of Dickey-Fuller Test:')\n",
        "    dftest = adfuller(timeseries, autolag='AIC')\n",
        "    dfoutput = pd.Series(dftest[0:4], index=['Test Statistic','p-value','#Lags Used','Number of Observations Used'])\n",
        "    for key,value in dftest[4].items():\n",
        "       dfoutput['Critical Value (%s)'%key] = value\n",
        "    print (dfoutput)\n",
        "\n"
      ],
      "execution_count": null,
      "outputs": []
    },
    {
      "cell_type": "code",
      "metadata": {
        "id": "HAXUM_ye-VFM",
        "colab_type": "code",
        "colab": {
          "base_uri": "https://localhost:8080/",
          "height": 182
        },
        "outputId": "8c784ebd-f4e8-48be-c8a7-9596a0acb7db"
      },
      "source": [
        "#apply adf test on the series\n",
        "adf_test(epsilon_1)"
      ],
      "execution_count": null,
      "outputs": [
        {
          "output_type": "stream",
          "text": [
            "Results of Dickey-Fuller Test:\n",
            "Test Statistic                   -0.424019\n",
            "p-value                           0.906011\n",
            "#Lags Used                       33.000000\n",
            "Number of Observations Used    9966.000000\n",
            "Critical Value (1%)              -3.431006\n",
            "Critical Value (5%)              -2.861830\n",
            "Critical Value (10%)             -2.566924\n",
            "dtype: float64\n"
          ],
          "name": "stdout"
        }
      ]
    },
    {
      "cell_type": "code",
      "metadata": {
        "id": "NQQYRQfSBBcO",
        "colab_type": "code",
        "colab": {}
      },
      "source": [
        "#define function for kpss test\n",
        "from statsmodels.tsa.stattools import kpss\n",
        "#define KPSS\n",
        "def kpss_test(timeseries):\n",
        "    print ('Results of KPSS Test:')\n",
        "    kpsstest = kpss(timeseries, regression='c')\n",
        "    kpss_output = pd.Series(kpsstest[0:3], index=['Test Statistic','p-value','Lags Used'])\n",
        "    for key,value in kpsstest[3].items():\n",
        "      kpss_output['Critical Value (%s)'%key] = value\n",
        "    print (kpss_output)"
      ],
      "execution_count": null,
      "outputs": []
    },
    {
      "cell_type": "code",
      "metadata": {
        "id": "7EUuslLNBFYn",
        "colab_type": "code",
        "colab": {
          "base_uri": "https://localhost:8080/",
          "height": 276
        },
        "outputId": "04865ec5-13fb-4877-9800-480bc6f8d3f1"
      },
      "source": [
        "kpss_test(epsilon_1)"
      ],
      "execution_count": null,
      "outputs": [
        {
          "output_type": "stream",
          "text": [
            "Results of KPSS Test:\n",
            "Test Statistic           22.525439\n",
            "p-value                   0.010000\n",
            "Lags Used                38.000000\n",
            "Critical Value (10%)      0.347000\n",
            "Critical Value (5%)       0.463000\n",
            "Critical Value (2.5%)     0.574000\n",
            "Critical Value (1%)       0.739000\n",
            "dtype: float64\n"
          ],
          "name": "stdout"
        },
        {
          "output_type": "stream",
          "text": [
            "/usr/local/lib/python3.6/dist-packages/statsmodels/tsa/stattools.py:1685: FutureWarning: The behavior of using lags=None will change in the next release. Currently lags=None is the same as lags='legacy', and so a sample-size lag length is used. After the next release, the default will change to be the same as lags='auto' which uses an automatic lag length selection method. To silence this warning, either use 'auto' or 'legacy'\n",
            "  warn(msg, FutureWarning)\n",
            "/usr/local/lib/python3.6/dist-packages/statsmodels/tsa/stattools.py:1709: InterpolationWarning: p-value is smaller than the indicated p-value\n",
            "  warn(\"p-value is smaller than the indicated p-value\", InterpolationWarning)\n"
          ],
          "name": "stderr"
        }
      ]
    }
  ]
}